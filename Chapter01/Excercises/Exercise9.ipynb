{
 "cells": [
  {
   "cell_type": "code",
   "execution_count": 3,
   "id": "suburban-bidder",
   "metadata": {},
   "outputs": [],
   "source": [
    "import pandas as pd\n",
    "dataset = \"../Data/Wholesale customers data.csv\"\n",
    "df = pd.read_csv(dataset, header=0)"
   ]
  },
  {
   "cell_type": "code",
   "execution_count": null,
   "id": "acute-puppy",
   "metadata": {},
   "outputs": [],
   "source": [
    "null_ = df.isna().any()\n",
    "dtypes = df.dtypes\n",
    "info = pd.concat()"
   ]
  }
 ],
 "metadata": {
  "kernelspec": {
   "display_name": "Python 3",
   "language": "python",
   "name": "python3"
  },
  "language_info": {
   "codemirror_mode": {
    "name": "ipython",
    "version": 3
   },
   "file_extension": ".py",
   "mimetype": "text/x-python",
   "name": "python",
   "nbconvert_exporter": "python",
   "pygments_lexer": "ipython3",
   "version": "3.8.8"
  }
 },
 "nbformat": 4,
 "nbformat_minor": 5
}

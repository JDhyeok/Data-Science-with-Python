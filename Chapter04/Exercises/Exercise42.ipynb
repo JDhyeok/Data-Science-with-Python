{
 "cells": [
  {
   "cell_type": "code",
   "execution_count": 2,
   "id": "knowing-incentive",
   "metadata": {},
   "outputs": [],
   "source": [
    "import pandas as pd\n",
    "\n",
    "df = pd.read_csv('../glass_w_outcome.csv')"
   ]
  },
  {
   "cell_type": "code",
   "execution_count": 5,
   "id": "first-wilderness",
   "metadata": {},
   "outputs": [],
   "source": [
    "from sklearn.utils import shuffle\n",
    "df_shuffled = shuffle(df, random_state=42)"
   ]
  },
  {
   "cell_type": "code",
   "execution_count": 6,
   "id": "optical-glory",
   "metadata": {},
   "outputs": [],
   "source": [
    "DV  = 'Type'"
   ]
  },
  {
   "cell_type": "code",
   "execution_count": 7,
   "id": "combined-turkish",
   "metadata": {},
   "outputs": [],
   "source": [
    "X = df_shuffled.drop(DV, axis=1)\n",
    "y = df_shuffled[DV]"
   ]
  },
  {
   "cell_type": "code",
   "execution_count": 8,
   "id": "public-member",
   "metadata": {},
   "outputs": [],
   "source": [
    "from sklearn.model_selection import train_test_split\n",
    "X_train, X_test, y_train, y_test = train_test_split(X, y, test_size=0.33, random_state=42)"
   ]
  },
  {
   "cell_type": "code",
   "execution_count": 9,
   "id": "informal-shareware",
   "metadata": {},
   "outputs": [],
   "source": [
    "from sklearn.preprocessing import StandardScaler\n",
    "scaler = StandardScaler() \n",
    "X_train_scaled = scaler.fit_transform(X_train) \n",
    "X_test_scaled = scaler.fit_transform(X_test)"
   ]
  },
  {
   "cell_type": "code",
   "execution_count": 10,
   "id": "infinite-thompson",
   "metadata": {},
   "outputs": [],
   "source": [
    "from sklearn.discriminant_analysis import LinearDiscriminantAnalysis\n",
    "\n",
    "model = LinearDiscriminantAnalysis()"
   ]
  },
  {
   "cell_type": "code",
   "execution_count": 11,
   "id": "assured-oriental",
   "metadata": {},
   "outputs": [
    {
     "data": {
      "text/plain": [
       "LinearDiscriminantAnalysis()"
      ]
     },
     "execution_count": 11,
     "metadata": {},
     "output_type": "execute_result"
    }
   ],
   "source": [
    "model.fit(X_train_scaled, y_train)"
   ]
  },
  {
   "cell_type": "code",
   "execution_count": 12,
   "id": "delayed-graphics",
   "metadata": {},
   "outputs": [
    {
     "data": {
      "text/plain": [
       "array([0.95863843, 0.04136157])"
      ]
     },
     "execution_count": 12,
     "metadata": {},
     "output_type": "execute_result"
    }
   ],
   "source": [
    "model.explained_variance_ratio_"
   ]
  },
  {
   "cell_type": "code",
   "execution_count": 13,
   "id": "junior-investing",
   "metadata": {},
   "outputs": [],
   "source": [
    "X_train_LDA = model.transform(X_train_scaled)\n",
    "X_test_LDA = model.transform(X_test_scaled)"
   ]
  },
  {
   "cell_type": "code",
   "execution_count": 14,
   "id": "third-catholic",
   "metadata": {},
   "outputs": [],
   "source": [
    "from sklearn.ensemble import RandomForestClassifier\n",
    "model = RandomForestClassifier()"
   ]
  },
  {
   "cell_type": "code",
   "execution_count": 15,
   "id": "technological-component",
   "metadata": {},
   "outputs": [
    {
     "data": {
      "text/plain": [
       "RandomForestClassifier()"
      ]
     },
     "execution_count": 15,
     "metadata": {},
     "output_type": "execute_result"
    }
   ],
   "source": [
    "model.fit(X_train_LDA, y_train)"
   ]
  },
  {
   "cell_type": "code",
   "execution_count": 16,
   "id": "indoor-stone",
   "metadata": {},
   "outputs": [],
   "source": [
    "predictions = model.predict(X_test_LDA)"
   ]
  },
  {
   "cell_type": "code",
   "execution_count": 19,
   "id": "underlying-physiology",
   "metadata": {},
   "outputs": [
    {
     "name": "stdout",
     "output_type": "stream",
     "text": [
      "          Predicted 1  Predicted 2  Predicted 3  Total\n",
      "Actual 1           15            7            0     22\n",
      "Actual 2            4           17            2     23\n",
      "Actual 3            2            1           24     27\n",
      "Total              21           25           26     72\n"
     ]
    }
   ],
   "source": [
    "from sklearn.metrics import confusion_matrix \n",
    "import pandas as pd\n",
    "import numpy as np\n",
    "cm = pd.DataFrame(confusion_matrix(y_test, predictions))\n",
    "cm['Total'] = np.sum(cm, axis=1)\n",
    "cm = cm.append(np.sum(cm, axis=0), ignore_index=True)\n",
    "cm.columns = ['Predicted 1', 'Predicted 2', 'Predicted 3', 'Total']\n",
    "cm = cm.set_index([['Actual 1', 'Actual 2', 'Actual 3', 'Total']])\n",
    "print(cm)"
   ]
  },
  {
   "cell_type": "code",
   "execution_count": null,
   "id": "several-winter",
   "metadata": {},
   "outputs": [],
   "source": []
  }
 ],
 "metadata": {
  "kernelspec": {
   "display_name": "Python 3",
   "language": "python",
   "name": "python3"
  },
  "language_info": {
   "codemirror_mode": {
    "name": "ipython",
    "version": 3
   },
   "file_extension": ".py",
   "mimetype": "text/x-python",
   "name": "python",
   "nbconvert_exporter": "python",
   "pygments_lexer": "ipython3",
   "version": "3.8.8"
  }
 },
 "nbformat": 4,
 "nbformat_minor": 5
}

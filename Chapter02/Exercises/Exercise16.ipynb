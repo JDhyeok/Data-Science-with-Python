{
 "cells": [
  {
   "cell_type": "code",
   "execution_count": 3,
   "id": "level-empty",
   "metadata": {},
   "outputs": [],
   "source": [
    "import numpy as np\n",
    "import matplotlib.pyplot as plt\n",
    "\n",
    "y = np.random.normal(loc=0,scale=0.1,size=100)"
   ]
  },
  {
   "cell_type": "code",
   "execution_count": 21,
   "id": "round-kazakhstan",
   "metadata": {},
   "outputs": [
    {
     "data": {
      "image/png": "[encoded data removed]",
      "text/plain": [
       "<Figure size 432x288 with 1 Axes>"
      ]
     },
     "metadata": {
      "needs_background": "light"
     },
     "output_type": "display_data"
    }
   ],
   "source": [
    "plt.hist(y,bins=20)\n",
    "plt.xlabel('y Value')\n",
    "plt.ylabel('Frequency')\n",
    "plt.show()"
   ]
  },
  {
   "cell_type": "code",
   "execution_count": 22,
   "id": "forced-cabin",
   "metadata": {},
   "outputs": [],
   "source": [
    "from scipy.stats import shapiro\n",
    "\n",
    "shap_w, shap_p = shapiro(y)"
   ]
  },
  {
   "cell_type": "code",
   "execution_count": 23,
   "id": "national-aluminum",
   "metadata": {},
   "outputs": [],
   "source": [
    "if shap_p > 0.05:\n",
    "    normal_YN = 'Fail to reject the null hypothesis. Data is normally distributed.'\n",
    "else:\n",
    "    normal_YN = 'Null phypothesis is rejected. Data is not normally distributed'"
   ]
  },
  {
   "cell_type": "code",
   "execution_count": 24,
   "id": "binding-balance",
   "metadata": {},
   "outputs": [
    {
     "data": {
      "image/png": "[encoded data removed]",
      "text/plain": [
       "<Figure size 432x288 with 1 Axes>"
      ]
     },
     "metadata": {
      "needs_background": "light"
     },
     "output_type": "display_data"
    }
   ],
   "source": [
    "plt.hist(y,bins=20)\n",
    "plt.xlabel('y Value')\n",
    "plt.ylabel('Frequency')\n",
    "plt.title(normal_YN)\n",
    "plt.show()"
   ]
  },
  {
   "cell_type": "code",
   "execution_count": 25,
   "id": "unavailable-anatomy",
   "metadata": {},
   "outputs": [],
   "source": [
    "y = np.random.normal(loc=0,scale=0.1,size=100)"
   ]
  },
  {
   "cell_type": "code",
   "execution_count": 26,
   "id": "looking-beverage",
   "metadata": {},
   "outputs": [
    {
     "data": {
      "image/png": "[encoded data removed]",
      "text/plain": [
       "<Figure size 432x288 with 1 Axes>"
      ]
     },
     "metadata": {
      "needs_background": "light"
     },
     "output_type": "display_data"
    }
   ],
   "source": [
    "plt.boxplot(y)\n",
    "plt.show()"
   ]
  },
  {
   "cell_type": "code",
   "execution_count": 27,
   "id": "elementary-evolution",
   "metadata": {},
   "outputs": [],
   "source": [
    "shap_w, shap_p = shapiro(y)"
   ]
  },
  {
   "cell_type": "code",
   "execution_count": 28,
   "id": "extraordinary-slide",
   "metadata": {},
   "outputs": [],
   "source": [
    "from scipy.stats import zscore\n",
    "\n",
    "y_z_scores = zscore(y)"
   ]
  },
  {
   "cell_type": "code",
   "execution_count": 29,
   "id": "adolescent-luxembourg",
   "metadata": {},
   "outputs": [],
   "source": [
    "total_outliers = 0\n",
    "for i in range(len(y_z_scores)):\n",
    "    if abs(y_z_scores[i]) >= 3:\n",
    "        total_outliers += 1"
   ]
  },
  {
   "cell_type": "code",
   "execution_count": 34,
   "id": "aerial-johnston",
   "metadata": {},
   "outputs": [],
   "source": [
    "if shap_p > 0.05:\n",
    " title = 'Normally distributed with {} outlier(s).'.format(total_outliers)\n",
    "else:\n",
    " title = 'Not normally distributed with {} outlier(s).'.format(total_outliers)"
   ]
  },
  {
   "cell_type": "code",
   "execution_count": 35,
   "id": "judicial-edgar",
   "metadata": {},
   "outputs": [
    {
     "data": {
      "image/png": "[encoded data removed]",
      "text/plain": [
       "<Figure size 432x288 with 1 Axes>"
      ]
     },
     "metadata": {
      "needs_background": "light"
     },
     "output_type": "display_data"
    }
   ],
   "source": [
    "plt.boxplot(y)\n",
    "plt.title(title)\n",
    "plt.show()"
   ]
  },
  {
   "cell_type": "code",
   "execution_count": null,
   "id": "loving-puzzle",
   "metadata": {},
   "outputs": [],
   "source": []
  }
 ],
 "metadata": {
  "kernelspec": {
   "display_name": "Python 3",
   "language": "python",
   "name": "python3"
  },
  "language_info": {
   "codemirror_mode": {
    "name": "ipython",
    "version": 3
   },
   "file_extension": ".py",
   "mimetype": "text/x-python",
   "name": "python",
   "nbconvert_exporter": "python",
   "pygments_lexer": "ipython3",
   "version": "3.8.8"
  }
 },
 "nbformat": 4,
 "nbformat_minor": 5
}

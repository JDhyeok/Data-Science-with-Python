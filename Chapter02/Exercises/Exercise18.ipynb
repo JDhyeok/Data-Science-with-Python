{
 "cells": [
  {
   "cell_type": "code",
   "execution_count": 1,
   "id": "annual-necessity",
   "metadata": {},
   "outputs": [],
   "source": [
    "y = [5, 5.5, 5, 5.5, 6, 6.5, 6, 6.5, 7, 5.5, 5.25, 6, 5.25]\n",
    "x = [100, 150, 110, 140, 140, 170, 168, 165, 180, 125, 115, 155, 135]"
   ]
  },
  {
   "cell_type": "code",
   "execution_count": 2,
   "id": "domestic-hudson",
   "metadata": {},
   "outputs": [],
   "source": [
    "import matplotlib.pyplot as plt"
   ]
  },
  {
   "cell_type": "code",
   "execution_count": 3,
   "id": "devoted-collapse",
   "metadata": {},
   "outputs": [
    {
     "data": {
      "image/png": "[encoded data removed]",
      "text/plain": [
       "<Figure size 432x288 with 1 Axes>"
      ]
     },
     "metadata": {
      "needs_background": "light"
     },
     "output_type": "display_data"
    }
   ],
   "source": [
    "plt.scatter(x,y)\n",
    "plt.xlabel('Weight')\n",
    "plt.ylabel('Height')\n",
    "plt.show()"
   ]
  },
  {
   "cell_type": "code",
   "execution_count": 5,
   "id": "written-emission",
   "metadata": {},
   "outputs": [
    {
     "name": "stdout",
     "output_type": "stream",
     "text": [
      "0.906224645847121\n",
      "1.9704521537621127e-05\n"
     ]
    }
   ],
   "source": [
    "from scipy.stats import pearsonr\n",
    "correlation_coeff, p_value = pearsonr(x, y)\n",
    "print(correlation_coeff)\n",
    "print(p_value)"
   ]
  },
  {
   "cell_type": "code",
   "execution_count": 7,
   "id": "helpful-marijuana",
   "metadata": {},
   "outputs": [
    {
     "name": "stdout",
     "output_type": "stream",
     "text": [
      "There is a very strong, positive linear relationship (r = 0.91).\n"
     ]
    }
   ],
   "source": [
    "if correlation_coeff == 1.00:\n",
    " title = 'There is a perfect positive linear relationship (r = {0:0.2f}).'.format(correlation_coeff)\n",
    "elif correlation_coeff >= 0.8:\n",
    " title = 'There is a very strong, positive linear relationship (r = {0:0.2f}).'.format(correlation_coeff)\n",
    "elif correlation_coeff >= 0.6:\n",
    " title = 'There is a strong, positive linear relationship (r = {0:0.2f}).'.format(correlation_coeff)\n",
    "elif correlation_coeff >= 0.4:\n",
    " title = 'There is a moderate, positive linear relationship (r = {0:0.2f}).'.format(correlation_coeff)\n",
    "elif correlation_coeff >= 0.2:\n",
    " title = 'There is a weak, positive linear relationship (r = {0:0.2f}).'.format(correlation_coeff)\n",
    "elif correlation_coeff > 0:\n",
    " title = 'There is a very weak, positive linear relationship (r = {0:0.2f}).'.format(correlation_coeff)\n",
    "elif correlation_coeff == 0:\n",
    " title = 'There is no linear relationship (r = {0:0.2f}).'.format(correlation_coeff)\n",
    "elif correlation_coeff <= -0.8:\n",
    " title = 'There is a very strong, negative linear relationship (r = {0:0.2f}).'.format(correlation_coeff)\n",
    "elif correlation_coeff <= -0.6:\n",
    " title = 'There is a strong, negative linear relationship (r = {0:0.2f}).'.format(correlation_coeff)\n",
    "elif correlation_coeff <= -0.4:\n",
    " title = 'There is a moderate, negative linear relationship (r = {0:0.2f}).'.format(correlation_coeff)\n",
    "elif correlation_coeff <= -0.2:\n",
    " title = 'There is a weak, negative linear relationship (r = {0:0.2f}).'.format(correlation_coeff)\n",
    "else: \n",
    " title = 'There is a very weak, negative linear relationship (r = {0:0.2f}).'.format(correlation_coeff)\n",
    "print(title)"
   ]
  },
  {
   "cell_type": "code",
   "execution_count": null,
   "id": "polish-america",
   "metadata": {},
   "outputs": [],
   "source": []
  }
 ],
 "metadata": {
  "kernelspec": {
   "display_name": "Python 3",
   "language": "python",
   "name": "python3"
  },
  "language_info": {
   "codemirror_mode": {
    "name": "ipython",
    "version": 3
   },
   "file_extension": ".py",
   "mimetype": "text/x-python",
   "name": "python",
   "nbconvert_exporter": "python",
   "pygments_lexer": "ipython3",
   "version": "3.8.8"
  }
 },
 "nbformat": 4,
 "nbformat_minor": 5
}

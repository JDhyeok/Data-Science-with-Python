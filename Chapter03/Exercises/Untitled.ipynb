{
 "cells": [
  {
   "cell_type": "code",
   "execution_count": 1,
   "id": "searching-congo",
   "metadata": {},
   "outputs": [],
   "source": [
    "import pandas as pd\n",
    "df = pd.read_csv('../weather.csv')"
   ]
  },
  {
   "cell_type": "code",
   "execution_count": 2,
   "id": "educated-studio",
   "metadata": {},
   "outputs": [],
   "source": [
    "df_dummies = pd.get_dummies(df, drop_first=True)"
   ]
  },
  {
   "cell_type": "code",
   "execution_count": 4,
   "id": "conceptual-disclosure",
   "metadata": {},
   "outputs": [
    {
     "data": {
      "text/html": [
       "<div>\n",
       "<style scoped>\n",
       "    .dataframe tbody tr th:only-of-type {\n",
       "        vertical-align: middle;\n",
       "    }\n",
       "\n",
       "    .dataframe tbody tr th {\n",
       "        vertical-align: top;\n",
       "    }\n",
       "\n",
       "    .dataframe thead th {\n",
       "        text-align: right;\n",
       "    }\n",
       "</style>\n",
       "<table border=\"1\" class=\"dataframe\">\n",
       "  <thead>\n",
       "    <tr style=\"text-align: right;\">\n",
       "      <th></th>\n",
       "      <th>Temperature_c</th>\n",
       "      <th>Humidity</th>\n",
       "      <th>Wind_Speed_kmh</th>\n",
       "      <th>Wind_Bearing_degrees</th>\n",
       "      <th>Visibility_km</th>\n",
       "      <th>Pressure_millibars</th>\n",
       "      <th>Rain</th>\n",
       "      <th>Description_Normal</th>\n",
       "      <th>Description_Warm</th>\n",
       "    </tr>\n",
       "  </thead>\n",
       "  <tbody>\n",
       "    <tr>\n",
       "      <th>6252</th>\n",
       "      <td>-2.727778</td>\n",
       "      <td>0.51</td>\n",
       "      <td>25.2287</td>\n",
       "      <td>2</td>\n",
       "      <td>11.4471</td>\n",
       "      <td>1036.09</td>\n",
       "      <td>0</td>\n",
       "      <td>0</td>\n",
       "      <td>0</td>\n",
       "    </tr>\n",
       "    <tr>\n",
       "      <th>4684</th>\n",
       "      <td>11.094444</td>\n",
       "      <td>0.86</td>\n",
       "      <td>3.7030</td>\n",
       "      <td>283</td>\n",
       "      <td>9.9820</td>\n",
       "      <td>1017.35</td>\n",
       "      <td>1</td>\n",
       "      <td>1</td>\n",
       "      <td>0</td>\n",
       "    </tr>\n",
       "    <tr>\n",
       "      <th>1731</th>\n",
       "      <td>1.122222</td>\n",
       "      <td>0.88</td>\n",
       "      <td>12.1877</td>\n",
       "      <td>167</td>\n",
       "      <td>4.9105</td>\n",
       "      <td>1020.45</td>\n",
       "      <td>1</td>\n",
       "      <td>0</td>\n",
       "      <td>0</td>\n",
       "    </tr>\n",
       "    <tr>\n",
       "      <th>4742</th>\n",
       "      <td>-2.850000</td>\n",
       "      <td>0.64</td>\n",
       "      <td>10.4489</td>\n",
       "      <td>11</td>\n",
       "      <td>9.9820</td>\n",
       "      <td>1028.93</td>\n",
       "      <td>0</td>\n",
       "      <td>0</td>\n",
       "      <td>0</td>\n",
       "    </tr>\n",
       "    <tr>\n",
       "      <th>4521</th>\n",
       "      <td>7.777778</td>\n",
       "      <td>0.96</td>\n",
       "      <td>6.4400</td>\n",
       "      <td>180</td>\n",
       "      <td>3.0590</td>\n",
       "      <td>999.00</td>\n",
       "      <td>1</td>\n",
       "      <td>1</td>\n",
       "      <td>0</td>\n",
       "    </tr>\n",
       "    <tr>\n",
       "      <th>...</th>\n",
       "      <td>...</td>\n",
       "      <td>...</td>\n",
       "      <td>...</td>\n",
       "      <td>...</td>\n",
       "      <td>...</td>\n",
       "      <td>...</td>\n",
       "      <td>...</td>\n",
       "      <td>...</td>\n",
       "      <td>...</td>\n",
       "    </tr>\n",
       "    <tr>\n",
       "      <th>5734</th>\n",
       "      <td>8.888889</td>\n",
       "      <td>0.77</td>\n",
       "      <td>9.6600</td>\n",
       "      <td>20</td>\n",
       "      <td>9.9820</td>\n",
       "      <td>1019.50</td>\n",
       "      <td>1</td>\n",
       "      <td>1</td>\n",
       "      <td>0</td>\n",
       "    </tr>\n",
       "    <tr>\n",
       "      <th>5191</th>\n",
       "      <td>7.194444</td>\n",
       "      <td>0.65</td>\n",
       "      <td>23.7153</td>\n",
       "      <td>320</td>\n",
       "      <td>10.2557</td>\n",
       "      <td>1022.81</td>\n",
       "      <td>1</td>\n",
       "      <td>1</td>\n",
       "      <td>0</td>\n",
       "    </tr>\n",
       "    <tr>\n",
       "      <th>5390</th>\n",
       "      <td>1.088889</td>\n",
       "      <td>0.92</td>\n",
       "      <td>12.5419</td>\n",
       "      <td>21</td>\n",
       "      <td>6.3434</td>\n",
       "      <td>1026.62</td>\n",
       "      <td>1</td>\n",
       "      <td>0</td>\n",
       "      <td>0</td>\n",
       "    </tr>\n",
       "    <tr>\n",
       "      <th>860</th>\n",
       "      <td>31.344444</td>\n",
       "      <td>0.34</td>\n",
       "      <td>9.6761</td>\n",
       "      <td>174</td>\n",
       "      <td>9.9820</td>\n",
       "      <td>1017.01</td>\n",
       "      <td>1</td>\n",
       "      <td>0</td>\n",
       "      <td>1</td>\n",
       "    </tr>\n",
       "    <tr>\n",
       "      <th>7270</th>\n",
       "      <td>12.105556</td>\n",
       "      <td>0.93</td>\n",
       "      <td>4.2182</td>\n",
       "      <td>57</td>\n",
       "      <td>11.1251</td>\n",
       "      <td>995.37</td>\n",
       "      <td>1</td>\n",
       "      <td>1</td>\n",
       "      <td>0</td>\n",
       "    </tr>\n",
       "  </tbody>\n",
       "</table>\n",
       "<p>10000 rows × 9 columns</p>\n",
       "</div>"
      ],
      "text/plain": [
       "      Temperature_c  Humidity  Wind_Speed_kmh  Wind_Bearing_degrees  \\\n",
       "6252      -2.727778      0.51         25.2287                     2   \n",
       "4684      11.094444      0.86          3.7030                   283   \n",
       "1731       1.122222      0.88         12.1877                   167   \n",
       "4742      -2.850000      0.64         10.4489                    11   \n",
       "4521       7.777778      0.96          6.4400                   180   \n",
       "...             ...       ...             ...                   ...   \n",
       "5734       8.888889      0.77          9.6600                    20   \n",
       "5191       7.194444      0.65         23.7153                   320   \n",
       "5390       1.088889      0.92         12.5419                    21   \n",
       "860       31.344444      0.34          9.6761                   174   \n",
       "7270      12.105556      0.93          4.2182                    57   \n",
       "\n",
       "      Visibility_km  Pressure_millibars  Rain  Description_Normal  \\\n",
       "6252        11.4471             1036.09     0                   0   \n",
       "4684         9.9820             1017.35     1                   1   \n",
       "1731         4.9105             1020.45     1                   0   \n",
       "4742         9.9820             1028.93     0                   0   \n",
       "4521         3.0590              999.00     1                   1   \n",
       "...             ...                 ...   ...                 ...   \n",
       "5734         9.9820             1019.50     1                   1   \n",
       "5191        10.2557             1022.81     1                   1   \n",
       "5390         6.3434             1026.62     1                   0   \n",
       "860          9.9820             1017.01     1                   0   \n",
       "7270        11.1251              995.37     1                   1   \n",
       "\n",
       "      Description_Warm  \n",
       "6252                 0  \n",
       "4684                 0  \n",
       "1731                 0  \n",
       "4742                 0  \n",
       "4521                 0  \n",
       "...                ...  \n",
       "5734                 0  \n",
       "5191                 0  \n",
       "5390                 0  \n",
       "860                  1  \n",
       "7270                 0  \n",
       "\n",
       "[10000 rows x 9 columns]"
      ]
     },
     "execution_count": 4,
     "metadata": {},
     "output_type": "execute_result"
    }
   ],
   "source": [
    "from sklearn.utils import shuffle\n",
    "\n",
    "df_shuffled = shuffle(df_dummies, random_state=42)\n",
    "df_shuffled"
   ]
  },
  {
   "cell_type": "code",
   "execution_count": 6,
   "id": "happy-alloy",
   "metadata": {},
   "outputs": [],
   "source": [
    "DV = 'Rain'\n",
    "X = df_shuffled.drop(DV, axis=1)\n",
    "y = df_shuffled[DV]"
   ]
  },
  {
   "cell_type": "code",
   "execution_count": 7,
   "id": "choice-sunset",
   "metadata": {},
   "outputs": [],
   "source": [
    "from sklearn.model_selection import train_test_split\n",
    "\n",
    "X_train, X_test, y_train,y_test = train_test_split(X,y,test_size=0.33,random_state=42)"
   ]
  },
  {
   "cell_type": "code",
   "execution_count": 13,
   "id": "grand-monaco",
   "metadata": {},
   "outputs": [],
   "source": [
    "from sklearn.linear_model import LogisticRegression\n",
    "\n",
    "model = LogisticRegression()"
   ]
  },
  {
   "cell_type": "code",
   "execution_count": 14,
   "id": "operational-kansas",
   "metadata": {},
   "outputs": [
    {
     "name": "stderr",
     "output_type": "stream",
     "text": [
      "C:\\Users\\JDhyeok\\anaconda3\\lib\\site-packages\\sklearn\\linear_model\\_logistic.py:763: ConvergenceWarning: lbfgs failed to converge (status=1):\n",
      "STOP: TOTAL NO. of ITERATIONS REACHED LIMIT.\n",
      "\n",
      "Increase the number of iterations (max_iter) or scale the data as shown in:\n",
      "    https://scikit-learn.org/stable/modules/preprocessing.html\n",
      "Please also refer to the documentation for alternative solver options:\n",
      "    https://scikit-learn.org/stable/modules/linear_model.html#logistic-regression\n",
      "  n_iter_i = _check_optimize_result(\n"
     ]
    },
    {
     "data": {
      "text/plain": [
       "LogisticRegression()"
      ]
     },
     "execution_count": 14,
     "metadata": {},
     "output_type": "execute_result"
    }
   ],
   "source": [
    "model.fit(X_train,y_train)"
   ]
  },
  {
   "cell_type": "code",
   "execution_count": 15,
   "id": "restricted-gasoline",
   "metadata": {},
   "outputs": [],
   "source": [
    "intercept = model.intercept_\n",
    "coefficients = model.coef_"
   ]
  },
  {
   "cell_type": "code",
   "execution_count": 17,
   "id": "necessary-spice",
   "metadata": {},
   "outputs": [
    {
     "data": {
      "text/plain": [
       "[6.145812818518533,\n",
       " -0.3183081501896287,\n",
       " -0.06804404295685355,\n",
       " -0.0023933653926554496,\n",
       " 0.05595740609576024,\n",
       " 0.0011022354948677113,\n",
       " 0.099429025752099,\n",
       " 0.04879622072147824]"
      ]
     },
     "execution_count": 17,
     "metadata": {},
     "output_type": "execute_result"
    }
   ],
   "source": [
    "coef_list = list(coefficients[0,:])\n",
    "coef_list"
   ]
  },
  {
   "cell_type": "code",
   "execution_count": 18,
   "id": "raising-sector",
   "metadata": {},
   "outputs": [
    {
     "name": "stdout",
     "output_type": "stream",
     "text": [
      "                Feature  Coefficient\n",
      "0         Temperature_c     6.145813\n",
      "1              Humidity    -0.318308\n",
      "2        Wind_Speed_kmh    -0.068044\n",
      "3  Wind_Bearing_degrees    -0.002393\n",
      "4         Visibility_km     0.055957\n",
      "5    Pressure_millibars     0.001102\n",
      "6    Description_Normal     0.099429\n",
      "7      Description_Warm     0.048796\n"
     ]
    }
   ],
   "source": [
    "coef_df = pd.DataFrame({'Feature': list(X_train.columns), 'Coefficient': coef_list})\n",
    "print(coef_df)"
   ]
  },
  {
   "cell_type": "code",
   "execution_count": null,
   "id": "parental-stewart",
   "metadata": {},
   "outputs": [],
   "source": []
  }
 ],
 "metadata": {
  "kernelspec": {
   "display_name": "Python 3",
   "language": "python",
   "name": "python3"
  },
  "language_info": {
   "codemirror_mode": {
    "name": "ipython",
    "version": 3
   },
   "file_extension": ".py",
   "mimetype": "text/x-python",
   "name": "python",
   "nbconvert_exporter": "python",
   "pygments_lexer": "ipython3",
   "version": "3.8.8"
  }
 },
 "nbformat": 4,
 "nbformat_minor": 5
}

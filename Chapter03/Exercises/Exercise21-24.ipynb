{
 "cells": [
  {
   "cell_type": "code",
   "execution_count": 2,
   "id": "polyphonic-glance",
   "metadata": {},
   "outputs": [
    {
     "name": "stdout",
     "output_type": "stream",
     "text": [
      "<class 'pandas.core.frame.DataFrame'>\n",
      "RangeIndex: 10000 entries, 0 to 9999\n",
      "Data columns (total 8 columns):\n",
      " #   Column                Non-Null Count  Dtype  \n",
      "---  ------                --------------  -----  \n",
      " 0   Temperature_c         10000 non-null  float64\n",
      " 1   Humidity              10000 non-null  float64\n",
      " 2   Wind_Speed_kmh        10000 non-null  float64\n",
      " 3   Wind_Bearing_degrees  10000 non-null  int64  \n",
      " 4   Visibility_km         10000 non-null  float64\n",
      " 5   Pressure_millibars    10000 non-null  float64\n",
      " 6   Rain                  10000 non-null  int64  \n",
      " 7   Description           10000 non-null  object \n",
      "dtypes: float64(5), int64(2), object(1)\n",
      "memory usage: 625.1+ KB\n"
     ]
    }
   ],
   "source": [
    "import numpy as np\n",
    "import pandas as pd\n",
    "\n",
    "df = pd.read_csv('../weather.csv')\n",
    "df.info()"
   ]
  },
  {
   "cell_type": "code",
   "execution_count": 3,
   "id": "saved-rubber",
   "metadata": {},
   "outputs": [
    {
     "name": "stdout",
     "output_type": "stream",
     "text": [
      "There are 3 levels in the Description column\n"
     ]
    }
   ],
   "source": [
    "levels = len(pd.value_counts(df['Description']))\n",
    "print('There are {} levels in the Description column'.format(levels))"
   ]
  },
  {
   "cell_type": "code",
   "execution_count": 4,
   "id": "dynamic-satellite",
   "metadata": {
    "scrolled": true
   },
   "outputs": [
    {
     "data": {
      "text/html": [
       "<div>\n",
       "<style scoped>\n",
       "    .dataframe tbody tr th:only-of-type {\n",
       "        vertical-align: middle;\n",
       "    }\n",
       "\n",
       "    .dataframe tbody tr th {\n",
       "        vertical-align: top;\n",
       "    }\n",
       "\n",
       "    .dataframe thead th {\n",
       "        text-align: right;\n",
       "    }\n",
       "</style>\n",
       "<table border=\"1\" class=\"dataframe\">\n",
       "  <thead>\n",
       "    <tr style=\"text-align: right;\">\n",
       "      <th></th>\n",
       "      <th>Temperature_c</th>\n",
       "      <th>Humidity</th>\n",
       "      <th>Wind_Speed_kmh</th>\n",
       "      <th>Wind_Bearing_degrees</th>\n",
       "      <th>Visibility_km</th>\n",
       "      <th>Pressure_millibars</th>\n",
       "      <th>Rain</th>\n",
       "      <th>Description_Normal</th>\n",
       "      <th>Description_Warm</th>\n",
       "    </tr>\n",
       "  </thead>\n",
       "  <tbody>\n",
       "    <tr>\n",
       "      <th>0</th>\n",
       "      <td>-0.555556</td>\n",
       "      <td>0.92</td>\n",
       "      <td>11.2700</td>\n",
       "      <td>130</td>\n",
       "      <td>8.0500</td>\n",
       "      <td>1021.60</td>\n",
       "      <td>0</td>\n",
       "      <td>0</td>\n",
       "      <td>0</td>\n",
       "    </tr>\n",
       "    <tr>\n",
       "      <th>1</th>\n",
       "      <td>21.111111</td>\n",
       "      <td>0.73</td>\n",
       "      <td>20.9300</td>\n",
       "      <td>330</td>\n",
       "      <td>16.1000</td>\n",
       "      <td>1017.00</td>\n",
       "      <td>1</td>\n",
       "      <td>0</td>\n",
       "      <td>1</td>\n",
       "    </tr>\n",
       "    <tr>\n",
       "      <th>2</th>\n",
       "      <td>16.600000</td>\n",
       "      <td>0.97</td>\n",
       "      <td>5.9731</td>\n",
       "      <td>193</td>\n",
       "      <td>14.9086</td>\n",
       "      <td>1013.99</td>\n",
       "      <td>1</td>\n",
       "      <td>1</td>\n",
       "      <td>0</td>\n",
       "    </tr>\n",
       "    <tr>\n",
       "      <th>3</th>\n",
       "      <td>1.600000</td>\n",
       "      <td>0.82</td>\n",
       "      <td>3.2200</td>\n",
       "      <td>300</td>\n",
       "      <td>16.1000</td>\n",
       "      <td>1031.59</td>\n",
       "      <td>1</td>\n",
       "      <td>0</td>\n",
       "      <td>0</td>\n",
       "    </tr>\n",
       "    <tr>\n",
       "      <th>4</th>\n",
       "      <td>2.194444</td>\n",
       "      <td>0.60</td>\n",
       "      <td>10.8836</td>\n",
       "      <td>116</td>\n",
       "      <td>9.9820</td>\n",
       "      <td>1020.88</td>\n",
       "      <td>1</td>\n",
       "      <td>0</td>\n",
       "      <td>0</td>\n",
       "    </tr>\n",
       "    <tr>\n",
       "      <th>...</th>\n",
       "      <td>...</td>\n",
       "      <td>...</td>\n",
       "      <td>...</td>\n",
       "      <td>...</td>\n",
       "      <td>...</td>\n",
       "      <td>...</td>\n",
       "      <td>...</td>\n",
       "      <td>...</td>\n",
       "      <td>...</td>\n",
       "    </tr>\n",
       "    <tr>\n",
       "      <th>9995</th>\n",
       "      <td>10.022222</td>\n",
       "      <td>0.95</td>\n",
       "      <td>10.2396</td>\n",
       "      <td>20</td>\n",
       "      <td>4.0089</td>\n",
       "      <td>1007.41</td>\n",
       "      <td>1</td>\n",
       "      <td>1</td>\n",
       "      <td>0</td>\n",
       "    </tr>\n",
       "    <tr>\n",
       "      <th>9996</th>\n",
       "      <td>8.633333</td>\n",
       "      <td>0.64</td>\n",
       "      <td>11.0446</td>\n",
       "      <td>80</td>\n",
       "      <td>9.9820</td>\n",
       "      <td>1031.33</td>\n",
       "      <td>1</td>\n",
       "      <td>1</td>\n",
       "      <td>0</td>\n",
       "    </tr>\n",
       "    <tr>\n",
       "      <th>9997</th>\n",
       "      <td>5.977778</td>\n",
       "      <td>0.93</td>\n",
       "      <td>11.0446</td>\n",
       "      <td>269</td>\n",
       "      <td>14.9086</td>\n",
       "      <td>1014.21</td>\n",
       "      <td>1</td>\n",
       "      <td>1</td>\n",
       "      <td>0</td>\n",
       "    </tr>\n",
       "    <tr>\n",
       "      <th>9998</th>\n",
       "      <td>9.788889</td>\n",
       "      <td>0.78</td>\n",
       "      <td>8.1788</td>\n",
       "      <td>231</td>\n",
       "      <td>7.8246</td>\n",
       "      <td>1005.02</td>\n",
       "      <td>1</td>\n",
       "      <td>1</td>\n",
       "      <td>0</td>\n",
       "    </tr>\n",
       "    <tr>\n",
       "      <th>9999</th>\n",
       "      <td>11.138889</td>\n",
       "      <td>0.79</td>\n",
       "      <td>14.2485</td>\n",
       "      <td>131</td>\n",
       "      <td>10.2557</td>\n",
       "      <td>1010.14</td>\n",
       "      <td>1</td>\n",
       "      <td>1</td>\n",
       "      <td>0</td>\n",
       "    </tr>\n",
       "  </tbody>\n",
       "</table>\n",
       "<p>10000 rows × 9 columns</p>\n",
       "</div>"
      ],
      "text/plain": [
       "      Temperature_c  Humidity  Wind_Speed_kmh  Wind_Bearing_degrees  \\\n",
       "0         -0.555556      0.92         11.2700                   130   \n",
       "1         21.111111      0.73         20.9300                   330   \n",
       "2         16.600000      0.97          5.9731                   193   \n",
       "3          1.600000      0.82          3.2200                   300   \n",
       "4          2.194444      0.60         10.8836                   116   \n",
       "...             ...       ...             ...                   ...   \n",
       "9995      10.022222      0.95         10.2396                    20   \n",
       "9996       8.633333      0.64         11.0446                    80   \n",
       "9997       5.977778      0.93         11.0446                   269   \n",
       "9998       9.788889      0.78          8.1788                   231   \n",
       "9999      11.138889      0.79         14.2485                   131   \n",
       "\n",
       "      Visibility_km  Pressure_millibars  Rain  Description_Normal  \\\n",
       "0            8.0500             1021.60     0                   0   \n",
       "1           16.1000             1017.00     1                   0   \n",
       "2           14.9086             1013.99     1                   1   \n",
       "3           16.1000             1031.59     1                   0   \n",
       "4            9.9820             1020.88     1                   0   \n",
       "...             ...                 ...   ...                 ...   \n",
       "9995         4.0089             1007.41     1                   1   \n",
       "9996         9.9820             1031.33     1                   1   \n",
       "9997        14.9086             1014.21     1                   1   \n",
       "9998         7.8246             1005.02     1                   1   \n",
       "9999        10.2557             1010.14     1                   1   \n",
       "\n",
       "      Description_Warm  \n",
       "0                    0  \n",
       "1                    1  \n",
       "2                    0  \n",
       "3                    0  \n",
       "4                    0  \n",
       "...                ...  \n",
       "9995                 0  \n",
       "9996                 0  \n",
       "9997                 0  \n",
       "9998                 0  \n",
       "9999                 0  \n",
       "\n",
       "[10000 rows x 9 columns]"
      ]
     },
     "execution_count": 4,
     "metadata": {},
     "output_type": "execute_result"
    }
   ],
   "source": [
    "df_dummies = pd.get_dummies(df,drop_first=True)\n",
    "df_dummies"
   ]
  },
  {
   "cell_type": "code",
   "execution_count": 5,
   "id": "numeric-motivation",
   "metadata": {},
   "outputs": [],
   "source": [
    "from sklearn.utils import shuffle\n",
    "\n",
    "df_shuffled = shuffle(df_dummies, random_state=42)"
   ]
  },
  {
   "cell_type": "code",
   "execution_count": 7,
   "id": "natural-senate",
   "metadata": {},
   "outputs": [],
   "source": [
    "DV = 'Temperature_c'\n",
    "X = df_shuffled.drop(DV, axis=1)\n",
    "y = df_shuffled[DV]"
   ]
  },
  {
   "cell_type": "code",
   "execution_count": 9,
   "id": "decreased-modeling",
   "metadata": {},
   "outputs": [],
   "source": [
    "from sklearn.model_selection import train_test_split\n",
    "\n",
    "X_train, X_test, y_train, y_test = train_test_split(X,y,test_size=0.33,random_state=42)"
   ]
  },
  {
   "cell_type": "code",
   "execution_count": 11,
   "id": "eligible-criticism",
   "metadata": {},
   "outputs": [
    {
     "data": {
      "text/html": [
       "<div>\n",
       "<style scoped>\n",
       "    .dataframe tbody tr th:only-of-type {\n",
       "        vertical-align: middle;\n",
       "    }\n",
       "\n",
       "    .dataframe tbody tr th {\n",
       "        vertical-align: top;\n",
       "    }\n",
       "\n",
       "    .dataframe thead th {\n",
       "        text-align: right;\n",
       "    }\n",
       "</style>\n",
       "<table border=\"1\" class=\"dataframe\">\n",
       "  <thead>\n",
       "    <tr style=\"text-align: right;\">\n",
       "      <th></th>\n",
       "      <th>Humidity</th>\n",
       "      <th>Wind_Speed_kmh</th>\n",
       "      <th>Wind_Bearing_degrees</th>\n",
       "      <th>Visibility_km</th>\n",
       "      <th>Pressure_millibars</th>\n",
       "      <th>Rain</th>\n",
       "      <th>Description_Normal</th>\n",
       "      <th>Description_Warm</th>\n",
       "    </tr>\n",
       "  </thead>\n",
       "  <tbody>\n",
       "    <tr>\n",
       "      <th>5757</th>\n",
       "      <td>0.76</td>\n",
       "      <td>8.4525</td>\n",
       "      <td>38</td>\n",
       "      <td>14.9569</td>\n",
       "      <td>1028.63</td>\n",
       "      <td>1</td>\n",
       "      <td>1</td>\n",
       "      <td>0</td>\n",
       "    </tr>\n",
       "    <tr>\n",
       "      <th>7510</th>\n",
       "      <td>0.85</td>\n",
       "      <td>12.8800</td>\n",
       "      <td>150</td>\n",
       "      <td>8.0500</td>\n",
       "      <td>1021.90</td>\n",
       "      <td>0</td>\n",
       "      <td>0</td>\n",
       "      <td>0</td>\n",
       "    </tr>\n",
       "    <tr>\n",
       "      <th>55</th>\n",
       "      <td>0.47</td>\n",
       "      <td>8.0339</td>\n",
       "      <td>267</td>\n",
       "      <td>10.3523</td>\n",
       "      <td>1015.50</td>\n",
       "      <td>1</td>\n",
       "      <td>0</td>\n",
       "      <td>1</td>\n",
       "    </tr>\n",
       "    <tr>\n",
       "      <th>1983</th>\n",
       "      <td>0.28</td>\n",
       "      <td>20.8978</td>\n",
       "      <td>300</td>\n",
       "      <td>10.3684</td>\n",
       "      <td>1008.00</td>\n",
       "      <td>1</td>\n",
       "      <td>1</td>\n",
       "      <td>0</td>\n",
       "    </tr>\n",
       "    <tr>\n",
       "      <th>1842</th>\n",
       "      <td>1.00</td>\n",
       "      <td>6.2629</td>\n",
       "      <td>329</td>\n",
       "      <td>0.2254</td>\n",
       "      <td>1028.13</td>\n",
       "      <td>0</td>\n",
       "      <td>0</td>\n",
       "      <td>0</td>\n",
       "    </tr>\n",
       "    <tr>\n",
       "      <th>...</th>\n",
       "      <td>...</td>\n",
       "      <td>...</td>\n",
       "      <td>...</td>\n",
       "      <td>...</td>\n",
       "      <td>...</td>\n",
       "      <td>...</td>\n",
       "      <td>...</td>\n",
       "      <td>...</td>\n",
       "    </tr>\n",
       "    <tr>\n",
       "      <th>6553</th>\n",
       "      <td>0.56</td>\n",
       "      <td>14.4900</td>\n",
       "      <td>300</td>\n",
       "      <td>16.1000</td>\n",
       "      <td>1012.90</td>\n",
       "      <td>1</td>\n",
       "      <td>0</td>\n",
       "      <td>1</td>\n",
       "    </tr>\n",
       "    <tr>\n",
       "      <th>5958</th>\n",
       "      <td>0.93</td>\n",
       "      <td>19.0624</td>\n",
       "      <td>304</td>\n",
       "      <td>8.1788</td>\n",
       "      <td>1004.46</td>\n",
       "      <td>1</td>\n",
       "      <td>1</td>\n",
       "      <td>0</td>\n",
       "    </tr>\n",
       "    <tr>\n",
       "      <th>6264</th>\n",
       "      <td>0.76</td>\n",
       "      <td>14.9569</td>\n",
       "      <td>322</td>\n",
       "      <td>9.9820</td>\n",
       "      <td>1013.50</td>\n",
       "      <td>1</td>\n",
       "      <td>1</td>\n",
       "      <td>0</td>\n",
       "    </tr>\n",
       "    <tr>\n",
       "      <th>9115</th>\n",
       "      <td>0.72</td>\n",
       "      <td>5.9087</td>\n",
       "      <td>331</td>\n",
       "      <td>15.5526</td>\n",
       "      <td>1023.14</td>\n",
       "      <td>1</td>\n",
       "      <td>1</td>\n",
       "      <td>0</td>\n",
       "    </tr>\n",
       "    <tr>\n",
       "      <th>2307</th>\n",
       "      <td>0.29</td>\n",
       "      <td>11.2700</td>\n",
       "      <td>310</td>\n",
       "      <td>9.9820</td>\n",
       "      <td>1017.50</td>\n",
       "      <td>1</td>\n",
       "      <td>0</td>\n",
       "      <td>1</td>\n",
       "    </tr>\n",
       "  </tbody>\n",
       "</table>\n",
       "<p>6700 rows × 8 columns</p>\n",
       "</div>"
      ],
      "text/plain": [
       "      Humidity  Wind_Speed_kmh  Wind_Bearing_degrees  Visibility_km  \\\n",
       "5757      0.76          8.4525                    38        14.9569   \n",
       "7510      0.85         12.8800                   150         8.0500   \n",
       "55        0.47          8.0339                   267        10.3523   \n",
       "1983      0.28         20.8978                   300        10.3684   \n",
       "1842      1.00          6.2629                   329         0.2254   \n",
       "...        ...             ...                   ...            ...   \n",
       "6553      0.56         14.4900                   300        16.1000   \n",
       "5958      0.93         19.0624                   304         8.1788   \n",
       "6264      0.76         14.9569                   322         9.9820   \n",
       "9115      0.72          5.9087                   331        15.5526   \n",
       "2307      0.29         11.2700                   310         9.9820   \n",
       "\n",
       "      Pressure_millibars  Rain  Description_Normal  Description_Warm  \n",
       "5757             1028.63     1                   1                 0  \n",
       "7510             1021.90     0                   0                 0  \n",
       "55               1015.50     1                   0                 1  \n",
       "1983             1008.00     1                   1                 0  \n",
       "1842             1028.13     0                   0                 0  \n",
       "...                  ...   ...                 ...               ...  \n",
       "6553             1012.90     1                   0                 1  \n",
       "5958             1004.46     1                   1                 0  \n",
       "6264             1013.50     1                   1                 0  \n",
       "9115             1023.14     1                   1                 0  \n",
       "2307             1017.50     1                   0                 1  \n",
       "\n",
       "[6700 rows x 8 columns]"
      ]
     },
     "execution_count": 11,
     "metadata": {},
     "output_type": "execute_result"
    }
   ],
   "source": [
    "X_train"
   ]
  },
  {
   "cell_type": "code",
   "execution_count": 15,
   "id": "unexpected-links",
   "metadata": {},
   "outputs": [
    {
     "data": {
      "text/plain": [
       "LinearRegression()"
      ]
     },
     "execution_count": 15,
     "metadata": {},
     "output_type": "execute_result"
    }
   ],
   "source": [
    "from sklearn.linear_model import LinearRegression\n",
    "\n",
    "model = LinearRegression()\n",
    "model.fit(X_train[['Humidity']],y_train)"
   ]
  },
  {
   "cell_type": "code",
   "execution_count": 16,
   "id": "figured-contrary",
   "metadata": {},
   "outputs": [
    {
     "name": "stdout",
     "output_type": "stream",
     "text": [
      "34.499407598825144 [-30.69215601]\n"
     ]
    }
   ],
   "source": [
    "intercept = model.intercept_\n",
    "coefficient = model.coef_\n",
    "print(intercept, coefficient) # y절편과 기울기"
   ]
  },
  {
   "cell_type": "markdown",
   "id": "brave-melbourne",
   "metadata": {},
   "source": [
    "## Exercise23"
   ]
  },
  {
   "cell_type": "code",
   "execution_count": 17,
   "id": "terminal-boost",
   "metadata": {},
   "outputs": [],
   "source": [
    "predictions = model.predict(X_test[['Humidity']])"
   ]
  },
  {
   "cell_type": "code",
   "execution_count": 18,
   "id": "sitting-poultry",
   "metadata": {},
   "outputs": [
    {
     "data": {
      "image/png": "[encoded data removed]",
      "text/plain": [
       "<Figure size 432x288 with 1 Axes>"
      ]
     },
     "metadata": {
      "needs_background": "light"
     },
     "output_type": "display_data"
    }
   ],
   "source": [
    "import matplotlib.pyplot as plt\n",
    "from scipy.stats import pearsonr\n",
    "\n",
    "plt.scatter(y_test,predictions)\n",
    "plt.xlabel('Y Test (True Values)')\n",
    "plt.ylabel('Predicted Values')\n",
    "plt.title('Predicted vs Actual Values (r={0:0.02f})'.format(pearsonr(y_test,predictions)[0],2))\n",
    "plt.show()"
   ]
  },
  {
   "cell_type": "code",
   "execution_count": 27,
   "id": "orange-gilbert",
   "metadata": {},
   "outputs": [
    {
     "name": "stderr",
     "output_type": "stream",
     "text": [
      "C:\\Users\\JDhyeok\\anaconda3\\lib\\site-packages\\seaborn\\distributions.py:2557: FutureWarning: `distplot` is a deprecated function and will be removed in a future version. Please adapt your code to use either `displot` (a figure-level function with similar flexibility) or `histplot` (an axes-level function for histograms).\n",
      "  warnings.warn(msg, FutureWarning)\n"
     ]
    },
    {
     "data": {
      "image/png": "[encoded data removed]",
      "text/plain": [
       "<Figure size 432x288 with 1 Axes>"
      ]
     },
     "metadata": {
      "needs_background": "light"
     },
     "output_type": "display_data"
    }
   ],
   "source": [
    "import seaborn as sns\n",
    "from scipy.stats import shapiro\n",
    "\n",
    "sns.distplot((y_test-predictions),bins=50)\n",
    "plt.xlabel('Residuals')\n",
    "plt.ylabel('Density')\n",
    "plt.title('Histogram of Residuals (Shapiro W p-value = {0:0.03f})'.format(shapiro(y_test-predictions)[1]))\n",
    "plt.show()"
   ]
  },
  {
   "cell_type": "code",
   "execution_count": 32,
   "id": "sexual-gravity",
   "metadata": {},
   "outputs": [
    {
     "name": "stdout",
     "output_type": "stream",
     "text": [
      "      Metric   Value\n",
      "0        MAE   6.052\n",
      "1        MSE  56.187\n",
      "2       RMSE   7.496\n",
      "3  R-Squared   0.389\n"
     ]
    }
   ],
   "source": [
    "from sklearn import metrics\n",
    "\n",
    "metrics_df = pd.DataFrame({'Metric': ['MAE', 'MSE', 'RMSE', 'R-Squared'],'Value': [metrics.mean_absolute_error(y_test, predictions),metrics.mean_squared_error(y_test, predictions),np.sqrt(metrics.mean_squared_error(y_test, predictions)),metrics.explained_variance_score(y_test, predictions)]}).round(3)\n",
    "print(metrics_df)"
   ]
  },
  {
   "cell_type": "markdown",
   "id": "premium-johnson",
   "metadata": {},
   "source": [
    "## Multiple Linear Regression"
   ]
  },
  {
   "cell_type": "code",
   "execution_count": 33,
   "id": "operational-hierarchy",
   "metadata": {},
   "outputs": [
    {
     "data": {
      "text/plain": [
       "LinearRegression()"
      ]
     },
     "execution_count": 33,
     "metadata": {},
     "output_type": "execute_result"
    }
   ],
   "source": [
    "model2 = LinearRegression()\n",
    "\n",
    "model2.fit(X_train,y_train)"
   ]
  },
  {
   "cell_type": "code",
   "execution_count": 36,
   "id": "usual-coach",
   "metadata": {},
   "outputs": [
    {
     "name": "stdout",
     "output_type": "stream",
     "text": [
      "Temperature = 3.54 + (-7.93 x Humidity) + (-0.07 x Wind Speed) + (0.00 x Wind Bearing Degrees) + (0.06 x Visibility) + (0.00 x Pressure) + (5.61 x Rain) + (8.54 x Normal Weather) + (19.10 x Warm Weather)\n"
     ]
    }
   ],
   "source": [
    "intercept = model2.intercept_\n",
    "coefficients = model2.coef_\n",
    "print('Temperature = {0:0.2f} + ({1:0.2f} x Humidity) + ({2:0.2f} x Wind Speed) + ({3:0.2f} x Wind Bearing Degrees) + ({4:0.2f} x Visibility) + ({5:0.2f} x Pressure) + ({6:0.2f} x Rain) + ({7:0.2f} x Normal Weather) + ({8:0.2f} x Warm Weather)'.format(intercept,coefficients[0],coefficients[1],coefficients[2],coefficients[3],coefficients[4],coefficients[5],coefficients[6],coefficients[7]))"
   ]
  },
  {
   "cell_type": "code",
   "execution_count": null,
   "id": "subtle-addiction",
   "metadata": {},
   "outputs": [],
   "source": []
  }
 ],
 "metadata": {
  "kernelspec": {
   "display_name": "Python 3",
   "language": "python",
   "name": "python3"
  },
  "language_info": {
   "codemirror_mode": {
    "name": "ipython",
    "version": 3
   },
   "file_extension": ".py",
   "mimetype": "text/x-python",
   "name": "python",
   "nbconvert_exporter": "python",
   "pygments_lexer": "ipython3",
   "version": "3.8.8"
  }
 },
 "nbformat": 4,
 "nbformat_minor": 5
}

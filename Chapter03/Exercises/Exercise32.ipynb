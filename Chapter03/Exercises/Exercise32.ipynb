{
 "cells": [
  {
   "cell_type": "code",
   "execution_count": null,
   "id": "cleared-blair",
   "metadata": {},
   "outputs": [],
   "source": [
    "import pandas as pd\n",
    "\n",
    "df = pd.read_csv('../weather.csv')"
   ]
  },
  {
   "cell_type": "code",
   "execution_count": null,
   "id": "ecological-liberal",
   "metadata": {},
   "outputs": [],
   "source": [
    "df_dummies = pd.get_dummies(df,drop_first=True)"
   ]
  },
  {
   "cell_type": "code",
   "execution_count": null,
   "id": "overall-preservation",
   "metadata": {},
   "outputs": [],
   "source": [
    "from sklearn.utils import shuffle\n",
    "\n",
    "df_shuffled = shuffle(df_dummies,random_state=42)"
   ]
  },
  {
   "cell_type": "code",
   "execution_count": null,
   "id": "tough-belle",
   "metadata": {},
   "outputs": [],
   "source": [
    "DV = 'Temperature_c'\n",
    "X = df_shuffled.drop(DV, axis=1)\n",
    "y = df_shuffled[DV]"
   ]
  },
  {
   "cell_type": "code",
   "execution_count": null,
   "id": "ignored-quantum",
   "metadata": {},
   "outputs": [],
   "source": [
    "from sklearn.model_selection import train_test_split\n",
    "\n",
    "X_train, X_test, y_train, y_test = train_test_split(X,y,test_size=0.33,random_state=42)"
   ]
  },
  {
   "cell_type": "code",
   "execution_count": null,
   "id": "scheduled-instrument",
   "metadata": {},
   "outputs": [],
   "source": [
    "from sklearn.preprocessing import StandardScaler\n",
    "scaler = StandardScaler()\n",
    "X_train_scaled = scaler.fit_transform(X_train)\n",
    "X_test_scaled = scaler.fit(X_test)"
   ]
  },
  {
   "cell_type": "code",
   "execution_count": null,
   "id": "million-incentive",
   "metadata": {},
   "outputs": [],
   "source": [
    "import numpy as np\n",
    "\n",
    "grid = {'criterion': ['mse','mae'],'max_features': ['auto', 'sqrt', 'log2', None],'min_impurity_decrease': np.linspace(0.0, 1.0, 10),'bootstrap': [True, False],'warm_start': [True, False]}"
   ]
  },
  {
   "cell_type": "code",
   "execution_count": null,
   "id": "separated-chile",
   "metadata": {},
   "outputs": [],
   "source": [
    "from sklearn.model_selection import GridSearchCV\n",
    "from sklearn.ensemble import RandomForestRegressor\n",
    "model = GridSearchCV(RandomForestRegressor(), grid, scoring='explained_variance', cv=5)"
   ]
  },
  {
   "cell_type": "code",
   "execution_count": null,
   "id": "innocent-modeling",
   "metadata": {},
   "outputs": [],
   "source": [
    "model.fit(X_train_scaled, y_train)"
   ]
  },
  {
   "cell_type": "code",
   "execution_count": null,
   "id": "domestic-bangladesh",
   "metadata": {},
   "outputs": [],
   "source": [
    "predicted = model.predict(X_test_scaled)"
   ]
  },
  {
   "cell_type": "code",
   "execution_count": null,
   "id": "designing-round",
   "metadata": {},
   "outputs": [],
   "source": []
  }
 ],
 "metadata": {
  "kernelspec": {
   "display_name": "Python 3",
   "language": "python",
   "name": "python3"
  },
  "language_info": {
   "codemirror_mode": {
    "name": "ipython",
    "version": 3
   },
   "file_extension": ".py",
   "mimetype": "text/x-python",
   "name": "python",
   "nbconvert_exporter": "python",
   "pygments_lexer": "ipython3",
   "version": "3.8.8"
  }
 },
 "nbformat": 4,
 "nbformat_minor": 5
}
